{
 "cells": [
  {
   "cell_type": "code",
   "execution_count": 1,
   "id": "ac563306",
   "metadata": {},
   "outputs": [],
   "source": [
    "x=3\n",
    "y=5\n",
    "z=x+y"
   ]
  },
  {
   "cell_type": "code",
   "execution_count": 2,
   "id": "2f0217fb",
   "metadata": {},
   "outputs": [
    {
     "name": "stdout",
     "output_type": "stream",
     "text": [
      "8\n"
     ]
    }
   ],
   "source": [
    "print(z)"
   ]
  },
  {
   "cell_type": "markdown",
   "id": "761c0475",
   "metadata": {},
   "source": [
    "# This is my first program"
   ]
  },
  {
   "cell_type": "code",
   "execution_count": null,
   "id": "dd57cc06",
   "metadata": {},
   "outputs": [],
   "source": []
  },
  {
   "cell_type": "code",
   "execution_count": null,
   "id": "c89ce4cf",
   "metadata": {},
   "outputs": [],
   "source": []
  }
 ],
 "metadata": {
  "kernelspec": {
   "display_name": "Python 3 (ipykernel)",
   "language": "python",
   "name": "python3"
  },
  "language_info": {
   "codemirror_mode": {
    "name": "ipython",
    "version": 3
   },
   "file_extension": ".py",
   "mimetype": "text/x-python",
   "name": "python",
   "nbconvert_exporter": "python",
   "pygments_lexer": "ipython3",
   "version": "3.11.4"
  }
 },
 "nbformat": 4,
 "nbformat_minor": 5
}
